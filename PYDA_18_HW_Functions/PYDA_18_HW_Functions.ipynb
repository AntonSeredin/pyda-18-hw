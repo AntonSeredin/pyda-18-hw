{
 "cells": [
  {
   "cell_type": "markdown",
   "metadata": {},
   "source": [
    "### Задание 1 (обязательное)"
   ]
  },
  {
   "cell_type": "code",
   "execution_count": 30,
   "metadata": {},
   "outputs": [
    {
     "name": "stdout",
     "output_type": "stream",
     "text": [
      "Введите команду: ads\n",
      "Введите номер полки 4\n",
      "Полка добавлена. Текущий перечень полок: 1, 2, 3, 4\n",
      "Введите команду: ds\n",
      "Введите номер полки 4\n",
      "Полка удалена. Текущий перечень полок: 1, 2, 3\n",
      "Введите команду: ds\n",
      "Введите номер полки 2\n",
      "На полке есть документы, удалите их перед удалением полки. Текущий перечень полок: 1, 2, 3\n",
      "Введите команду: q\n"
     ]
    }
   ],
   "source": [
    "documents = [\n",
    " {'type': 'passport', 'number': '2207 876234', 'name': 'Василий Гупкин'},\n",
    " {'type': 'invoice', 'number': '11-2', 'name': 'Геннадий Покемонов'},\n",
    " {'type': 'insurance', 'number': '10006', 'name': 'Аристарх Павлов'}\n",
    "]\n",
    "directories = {\n",
    " '1': ['2207 876234', '11-2'],\n",
    " '2': ['10006'],\n",
    " '3': []\n",
    "}\n",
    "\n",
    "def doc_search():\n",
    "    '''\n",
    "    ищет владельца документа по его номеру\n",
    "    '''\n",
    "    doc_number = input('Введите номер документа ')\n",
    "    for doc in documents:\n",
    "        if doc_number == doc['number']:\n",
    "            return print (f\"Владелец документа: {doc['name']}\")\n",
    "    print('Документ не найден')\n",
    "\n",
    "def shelf_search():\n",
    "    '''\n",
    "    ищет номер полки по номеру документа\n",
    "    '''\n",
    "    doc_number = input('Введите номер документа ')\n",
    "    for shelf in directories.items():\n",
    "        if doc_number in shelf[1]:\n",
    "            return print (f\"Документ хранится на полке: {shelf[0]}\")\n",
    "    print('Документ не найден')\n",
    "    \n",
    "def all_docs():\n",
    "    '''\n",
    "    выдает полный список документов с номером полки хранения\n",
    "    '''\n",
    "    for doc in documents:\n",
    "        for shelf, numbers in directories.items():\n",
    "            if doc['number'] in numbers:\n",
    "                return print (f\"№: {doc['number']}, тип: {doc['type']}, владелец: {doc['name']}, полка хранения: {shelf}\")\n",
    "\n",
    "def current_shelf_list():\n",
    "    '''\n",
    "    сообщает текущий список полок\n",
    "    '''\n",
    "    return \"Текущий перечень полок: \" + ', '.join(directories.keys())\n",
    "\n",
    "def add_new_shelf():\n",
    "    '''\n",
    "    Добавляет номер полки. Если он уже существует, возвращает текущий список полок\n",
    "    '''\n",
    "    shelf_number = input('Введите номер полки ')\n",
    "    if shelf_number in directories.keys():\n",
    "        print(f\"Такая полка уже существует. {current_shelf_list()}\") \n",
    "    else:\n",
    "        directories[shelf_number] = []\n",
    "        print(f\"Полка добавлена. {current_shelf_list()}\") \n",
    "        \n",
    "def delete_shelf():\n",
    "    '''\n",
    "    Пользователь по команде \"ds\" может удалить существующую полку из данных (только если она пустая)\n",
    "    '''\n",
    "    shelf_number = input('Введите номер полки ')\n",
    "    if shelf_number in directories.keys() and directories[shelf_number] == []:\n",
    "        del(directories[shelf_number])\n",
    "        print(f\"Полка удалена. {current_shelf_list()}\") \n",
    "    elif shelf_number in directories.keys() and directories[shelf_number] != []:\n",
    "        print(f\"На полке есть документы, удалите их перед удалением полки. {current_shelf_list()}\")\n",
    "    else:\n",
    "        print(f\"Такой полки не существует. {current_shelf_list()}\") \n",
    "\n",
    "    \n",
    "function_dict = {'p':doc_search, 's':shelf_search, 'l':all_docs, 'ads':add_new_shelf, 'ds':delete_shelf}\n",
    "\n",
    "user_input = ''\n",
    "while user_input != 'q':\n",
    "    user_input = input('Введите команду: ')\n",
    "    if function_dict.get(user_input) is not None:\n",
    "        function_dict.get(user_input)()\n",
    "    else:\n",
    "        pass"
   ]
  }
 ],
 "metadata": {
  "kernelspec": {
   "display_name": "Python 3",
   "language": "python",
   "name": "python3"
  },
  "language_info": {
   "codemirror_mode": {
    "name": "ipython",
    "version": 3
   },
   "file_extension": ".py",
   "mimetype": "text/x-python",
   "name": "python",
   "nbconvert_exporter": "python",
   "pygments_lexer": "ipython3",
   "version": "3.8.5"
  }
 },
 "nbformat": 4,
 "nbformat_minor": 4
}

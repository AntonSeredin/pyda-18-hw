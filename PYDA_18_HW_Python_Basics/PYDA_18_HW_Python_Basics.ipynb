{
 "cells": [
  {
   "cell_type": "markdown",
   "metadata": {},
   "source": [
    "### Задание 1"
   ]
  },
  {
   "cell_type": "code",
   "execution_count": 10,
   "metadata": {
    "scrolled": true
   },
   "outputs": [
    {
     "name": "stdout",
     "output_type": "stream",
     "text": [
      "Фраза 1 длиннее фразы 2\n"
     ]
    }
   ],
   "source": [
    "phrase_1 = 'Насколько проще было бы писать программы, если бы не заказчики'\n",
    "phrase_2 = '640Кб должно хватить для любых задач. Билл Гейтс (по легенде)'\n",
    "if len(phrase_1) > len(phrase_2):\n",
    "    print('Фраза 1 длиннее фразы 2')\n",
    "elif len(phrase_1) < len(phrase_2):\n",
    "    print('Фраза 2 длиннее фразы 1')\n",
    "else:\n",
    "    print('Фразы равной длины')"
   ]
  },
  {
   "cell_type": "markdown",
   "metadata": {},
   "source": [
    "### Задание 2"
   ]
  },
  {
   "cell_type": "code",
   "execution_count": 22,
   "metadata": {},
   "outputs": [
    {
     "name": "stdout",
     "output_type": "stream",
     "text": [
      "Обычный год\n"
     ]
    }
   ],
   "source": [
    "year = 1\n",
    "if year%4==0:\n",
    "    print('Високосный год')\n",
    "else:\n",
    "    print('Обычный год')\n"
   ]
  },
  {
   "cell_type": "markdown",
   "metadata": {},
   "source": [
    "### Задание 3"
   ]
  },
  {
   "cell_type": "code",
   "execution_count": 28,
   "metadata": {},
   "outputs": [
    {
     "name": "stdout",
     "output_type": "stream",
     "text": [
      "Введите день рождения:30\n",
      "Введите месяц рождения:август\n",
      "Знак зодиака:Дева\n"
     ]
    }
   ],
   "source": [
    "date=int(input(\"Введите день рождения:\"))\n",
    "month=str(input(\"Введите месяц рождения в именительном падеже:\"))\n",
    "if month=='январь':\n",
    "    month=1\n",
    "elif month=='февраль':\n",
    "    month=2\n",
    "elif month=='март':\n",
    "    month=3\n",
    "elif month=='апрель':\n",
    "    month=4\n",
    "elif month=='май':\n",
    "    month=5\n",
    "elif month=='июнь':\n",
    "    month=6\n",
    "elif month=='июль':\n",
    "    month=7\n",
    "elif month=='август':\n",
    "    month=8\n",
    "elif month=='сентябрь':\n",
    "    month=9\n",
    "elif month=='октябрь':\n",
    "    month=10\n",
    "elif month=='ноябрь':\n",
    "    month=11\n",
    "elif month=='декабрь':\n",
    "    month=12\n",
    "else:\n",
    "    print ('Введите нормальный месяц!')\n",
    "    \n",
    "if (date>=23 and date<=31 and month==12) or( month==1 and date>=1 and date<=20):\n",
    "\n",
    "   print(\"Знак зодиака:Козерог\")\n",
    "\n",
    "elif (date>=21 and date<=31 and month==1) or( month==2 and date>=1 and date<=19):\n",
    "\n",
    "   print(\"Знак зодиака:Водолей\")\n",
    "\n",
    "elif (date>=20 and date<=29 and month==2) or( month==3 and date>=1 and date<=20):\n",
    "\n",
    "   print(\"Знак зодиака:Рыбы\")\n",
    "\n",
    "elif (date>=21 and date<=31 and month==3) or( month==4 and date>=1 and date<=20):\n",
    "\n",
    "   print(\"Знак зодиака:Овен\")\n",
    "\n",
    "elif (date>=21 and date<=30 and month==4) or( month==5 and date>=1 and date<=21):\n",
    "\n",
    "   print(\"Знак зодиака:Телец\")\n",
    "\n",
    "elif (date>=22 and date<=31 and month==5) or( month==6 and date>=1 and date<=21):\n",
    "\n",
    "   print(\"Знак зодиака:Близнецы\")\n",
    "\n",
    "elif (date>=22 and date<=30 and month==6) or( month==7 and date>=1 and date<=22):\n",
    "\n",
    "   print(\"Знак зодиака:Рак\")\n",
    "\n",
    "elif (date>=23 and date<=31 and month==7) or( month==8 and date>=1 and date<=21):\n",
    "\n",
    "   print(\"Знак зодиака:Лев\")\n",
    "\n",
    "elif (date>=22 and date<=31 and month==8) or( month==9 and date>=1 and date<=23):\n",
    "\n",
    "   print(\"Знак зодиака:Дева\")\n",
    "\n",
    "elif (date>=24 and date<=30 and month==9) or( month==10 and date>=1 and date<=23):\n",
    "\n",
    "   print(\"Знак зодиака:Весы\")\n",
    "\n",
    "elif (date>=24 and date<=31 and month==10) or( month==11 and date>=1 and date<=22):\n",
    "\n",
    "   print(\"Знак зодиака:Скорпион\")\n",
    "\n",
    "elif (date>=23 and date<=30 and month==11) or( month==12 and date>=1 and date<=22):\n",
    "\n",
    "   print(\"Знак зодиака:Стрелец\")"
   ]
  },
  {
   "cell_type": "markdown",
   "metadata": {},
   "source": [
    "### Задание 4"
   ]
  },
  {
   "cell_type": "code",
   "execution_count": 45,
   "metadata": {},
   "outputs": [
    {
     "name": "stdout",
     "output_type": "stream",
     "text": [
      "Введите ширину товара:900\n",
      "Введите длину товара:20\n",
      "Введите высоту товара:900\n",
      "width = 900\n",
      "length = 20\n",
      "height = 900\n",
      "Коробка №2\n"
     ]
    }
   ],
   "source": [
    "width=int(input(\"Введите ширину товара:\"))\n",
    "length=int(input(\"Введите длину товара:\"))\n",
    "height=int(input(\"Введите высоту товара:\"))\n",
    "\n",
    "if width<=15 and length<=15 and height<=15:\n",
    "    print(\"width =\", width)\n",
    "    print(\"length =\", length)\n",
    "    print(\"height =\", height)\n",
    "    print(\"Коробка №1\")\n",
    "elif length>=200:\n",
    "    print(\"width =\", width)\n",
    "    print(\"length =\", length)\n",
    "    print(\"height =\", height)\n",
    "    print(\"Упаковка для лыж\")\n",
    "elif 15<width<50 or 15<length<50 or 15<height<50:\n",
    "    print(\"width =\", width)\n",
    "    print(\"length =\", length)\n",
    "    print(\"height =\", height)\n",
    "    print(\"Коробка №2\")\n",
    "else:\n",
    "    print(\"Стандартная коробка №3\")"
   ]
  },
  {
   "cell_type": "markdown",
   "metadata": {},
   "source": [
    "### Задание 5"
   ]
  },
  {
   "cell_type": "code",
   "execution_count": 40,
   "metadata": {},
   "outputs": [
    {
     "name": "stdout",
     "output_type": "stream",
     "text": [
      "Обычный билет!\n"
     ]
    }
   ],
   "source": [
    "ticket_number=123124\n",
    "\n",
    "#определяем числа в номере билета с конца с помощью деления на 10 и остатка от деления на 10\n",
    "\n",
    "last_digit=int(ticket_number%10)\n",
    "fifth_digit=int((ticket_number%100-last_digit)/10)\n",
    "fourth_digit=int((ticket_number%1000-last_digit-fifth_digit*10)/100)\n",
    "third_digit=int((ticket_number%10000-last_digit-fifth_digit*10-fourth_digit*100)/1000)\n",
    "second_digit=int((ticket_number%100000-last_digit-fifth_digit*10-fourth_digit*100-third_digit*1000)/10000)\n",
    "first_digit=int((ticket_number//100000))\n",
    "\n",
    "#проверяем сумму\n",
    "\n",
    "if (last_digit+fifth_digit+fourth_digit)==(third_digit+second_digit+first_digit):\n",
    "    print('Счастливый билет!')\n",
    "else:\n",
    "    print('Обычный билет!')"
   ]
  },
  {
   "cell_type": "markdown",
   "metadata": {},
   "source": [
    "### Задание 6"
   ]
  },
  {
   "cell_type": "code",
   "execution_count": 59,
   "metadata": {},
   "outputs": [
    {
     "name": "stdout",
     "output_type": "stream",
     "text": [
      "Введите фигуру, для которой необходимо найти площадь, в именительном падежде с маленькой буквы:треугольник\n",
      "Введите длину одной стороны:5\n",
      "Введите длину второй стороны:3\n",
      "Введите длину третьей стороны:2\n",
      "Площадь треугольника, см2:  0.0\n"
     ]
    }
   ],
   "source": [
    "geometric_figure=str(input(\"Введите фигуру, для которой необходимо найти площадь, \\\n",
    "в именительном падежде с маленькой буквы:\"))\n",
    "if geometric_figure=='круг':\n",
    "    import math\n",
    "    radius=int(input(\"Введите радиус круга в см:\"))\n",
    "    square=math.pi*(radius**2)\n",
    "    print(\"Площадь круга, см2: \",square)\n",
    "elif geometric_figure=='треугольник':\n",
    "    a = int(input(\"Введите длину одной стороны:\"))\n",
    "    b = int(input(\"Введите длину второй стороны:\"))\n",
    "    c = int(input(\"Введите длину третьей стороны:\"))\n",
    "    square=(((a+b+c)/2)*(((a+b+c)/2)-a)*(((a+b+c)/2)-b)*(((a+b+c)/2)-c))**(1/2)\n",
    "    print(\"Площадь треугольника, см2: \",square)\n",
    "elif geometric_figure=='прямоугольник':\n",
    "    a = int(input(\"Введите длину одной стороны:\"))\n",
    "    b = int(input(\"Введите длину второй стороны:\"))\n",
    "    square=a*b\n",
    "    print(\"Площадь прямоугольника, см2: \",square)\n",
    "else:\n",
    "    print(\"Извините, фигура не найдена\")\n"
   ]
  }
 ],
 "metadata": {
  "kernelspec": {
   "display_name": "Python 3",
   "language": "python",
   "name": "python3"
  },
  "language_info": {
   "codemirror_mode": {
    "name": "ipython",
    "version": 3
   },
   "file_extension": ".py",
   "mimetype": "text/x-python",
   "name": "python",
   "nbconvert_exporter": "python",
   "pygments_lexer": "ipython3",
   "version": "3.8.5"
  }
 },
 "nbformat": 4,
 "nbformat_minor": 4
}

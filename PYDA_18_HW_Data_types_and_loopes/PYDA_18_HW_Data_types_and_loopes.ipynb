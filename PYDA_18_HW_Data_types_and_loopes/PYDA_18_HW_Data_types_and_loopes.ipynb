{
 "cells": [
  {
   "cell_type": "markdown",
   "metadata": {},
   "source": [
    "### Задание 1"
   ]
  },
  {
   "cell_type": "code",
   "execution_count": 32,
   "metadata": {},
   "outputs": [
    {
     "name": "stdout",
     "output_type": "stream",
     "text": [
      "t\n"
     ]
    }
   ],
   "source": [
    "word = \"alotoftesting\"\n",
    "if len(word)%2 == 0:\n",
    "    print(word[len(word)//2-1:len(word)//2+1])\n",
    "else:\n",
    "    print(word[len(word)//2])"
   ]
  },
  {
   "cell_type": "markdown",
   "metadata": {},
   "source": [
    "\n",
    "### Задание 2"
   ]
  },
  {
   "cell_type": "code",
   "execution_count": 52,
   "metadata": {},
   "outputs": [
    {
     "name": "stdout",
     "output_type": "stream",
     "text": [
      "Введите число: 0\n",
      "Результат:  0\n"
     ]
    }
   ],
   "source": [
    "user_number_list=[]\n",
    "user_number = int\n",
    "while user_number != 0:\n",
    "    user_number=int(input('Введите число: '))\n",
    "    user_number_list.append(user_number)\n",
    "print('Результат: ', sum(user_number_list))"
   ]
  },
  {
   "cell_type": "markdown",
   "metadata": {},
   "source": [
    "### Задание 3"
   ]
  },
  {
   "cell_type": "code",
   "execution_count": 93,
   "metadata": {},
   "outputs": [
    {
     "name": "stdout",
     "output_type": "stream",
     "text": [
      "Идеальные пары :\n",
      "Alex  и  Emma\n",
      "Arthur  и  Kate\n",
      "John  и  Kira\n",
      "Peter  и  Liza\n",
      "Richard  и  Trisha\n"
     ]
    }
   ],
   "source": [
    "boys = ['Peter', 'Alex', 'John', 'Arthur', 'Richard']\n",
    "girls = ['Kate', 'Liza', 'Kira', 'Emma', 'Trisha']\n",
    "if len(boys)!= len(girls):\n",
    "    print('Внимание, кто-то может остаться без пары!')\n",
    "else:\n",
    "    boys_girls_sorted = zip(sorted(boys), sorted(girls))\n",
    "    print('Идеальные пары :')\n",
    "for pair in boys_girls_sorted:\n",
    "    print(pair[0] ,' и ', pair[1])"
   ]
  },
  {
   "cell_type": "markdown",
   "metadata": {},
   "source": [
    "### Задание 4"
   ]
  },
  {
   "cell_type": "code",
   "execution_count": 100,
   "metadata": {},
   "outputs": [
    {
     "name": "stdout",
     "output_type": "stream",
     "text": [
      "Средняя температура в цельсиях в стране: \n",
      "Thailand : 23.86\n",
      "Germany : 13.8\n",
      "Russia : 3.71\n",
      "Poland : 12.0\n"
     ]
    }
   ],
   "source": [
    "countries_temperature = [\n",
    "    ['Thailand', [75.2, 77, 78.8, 73.4, 68, 75.2, 77]],\n",
    "    ['Germany', [57.2, 55.4, 59, 59, 53.6]],\n",
    "    ['Russia', [35.6, 37.4, 39.2, 41, 42.8, 39.2, 35.6]],\n",
    "    ['Poland', [50, 50, 53.6, 57.2, 55.4, 55.4]]\n",
    "]\n",
    "print ('Средняя температура в цельсиях в стране: ')\n",
    "for country in countries_temperature:\n",
    "    average_celcium = (sum(country[1])/len(country[1]) - 32) / 1.8\n",
    "    print (country[0], ':', round(average_celcium,2))"
   ]
  },
  {
   "cell_type": "markdown",
   "metadata": {},
   "source": [
    "### Задание 5"
   ]
  },
  {
   "cell_type": "code",
   "execution_count": 223,
   "metadata": {},
   "outputs": [
    {
     "name": "stdout",
     "output_type": "stream",
     "text": [
      "Среднее количество просмотров на уникального пользователя: 145.33\n"
     ]
    }
   ],
   "source": [
    "stream = [\n",
    "    '2018-01-01,user100,150',\n",
    "    '2018-01-07,user99,205',\n",
    "    '2018-03-29,user1001,81'\n",
    "]\n",
    "\n",
    "user_list=[]\n",
    "views=[]\n",
    "#разделяем список и достаем список просмотров и список юзеров\n",
    "for log in stream:\n",
    "    log.split(',')\n",
    "    user_list.append(log.split(',')[1])\n",
    "    views.append(log.split(',')[2])\n",
    "#создаем множество для уникальных юзеров\n",
    "user_set = set(user_list)\n",
    "#comprehension of views\n",
    "views = [int(view) for view in views]\n",
    "print(f\"Среднее количество просмотров на уникального пользователя: {round(sum(views) / len(user_set),2)}\")\n",
    "    "
   ]
  },
  {
   "cell_type": "markdown",
   "metadata": {},
   "source": [
    "### Задание 6"
   ]
  },
  {
   "cell_type": "code",
   "execution_count": 221,
   "metadata": {},
   "outputs": [
    {
     "name": "stdout",
     "output_type": "stream",
     "text": [
      "Введите числа, разделенные пробелом10 15 15 103 200 200 200 1 1 1 1 1 2 2 2\n",
      "1 2 15 200\n"
     ]
    }
   ],
   "source": [
    "user_numbers = input('Введите числа, разделенные пробелом ')\n",
    "user_numbers_list = user_numbers.split(' ')\n",
    "#comprehension of user_numbers_list\n",
    "user_numbers_list = [int(number) for number in user_numbers_list]\n",
    "non_unique_numbers=[]\n",
    "for number in user_numbers_list:\n",
    "    if user_numbers_list.count(number) > 1:\n",
    "        non_unique_numbers.append(number)\n",
    "    else:\n",
    "        pass\n",
    "#получаем уникальные значения с помощью множества\n",
    "non_uniqe_numbers_set = set(non_unique_numbers)\n",
    "# создание листа вывода через comprehension\n",
    "user_numbers_list = [str(number) for number in sorted(non_uniqe_numbers_set)]\n",
    "print(' '.join(user_numbers_list))"
   ]
  }
 ],
 "metadata": {
  "kernelspec": {
   "display_name": "Python 3",
   "language": "python",
   "name": "python3"
  },
  "language_info": {
   "codemirror_mode": {
    "name": "ipython",
    "version": 3
   },
   "file_extension": ".py",
   "mimetype": "text/x-python",
   "name": "python",
   "nbconvert_exporter": "python",
   "pygments_lexer": "ipython3",
   "version": "3.8.5"
  }
 },
 "nbformat": 4,
 "nbformat_minor": 4
}
